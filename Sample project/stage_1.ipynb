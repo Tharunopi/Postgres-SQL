{
 "cells": [
  {
   "cell_type": "code",
   "execution_count": 1,
   "id": "50c78635-7538-4df0-abf7-2f8bc60ca46d",
   "metadata": {},
   "outputs": [],
   "source": [
    "import streamlit as st\n",
    "import psycopg2"
   ]
  },
  {
   "cell_type": "code",
   "execution_count": null,
   "id": "a349bf36-b867-477a-805c-7747be52f339",
   "metadata": {},
   "outputs": [],
   "source": [
    "db_params = {\n",
    "    \"host\": \"localhost\",\n",
    "    \"database\": \"svt_base\",\n",
    "    \"user\": \"postgres\",\n",
    "    \"password\": \"admin123\",\n",
    "    \"port\": \"5433\"\n",
    "}\n",
    "\n",
    "def connect_to_db():\n",
    "    return psycopg2.connect(**db_params)\n",
    "\n",
    "def exe_query(conn, query):\n",
    "    cursor = conn.cursor()\n",
    "\n",
    "    cursor.execute(query)\n",
    "\n",
    "    result = cursor.fetchall()\n",
    "\n",
    "    conn.commit()\n",
    "    cursor.close()\n",
    "    \n",
    "    return result \n",
    "\n",
    "conn = connect_to_db()"
   ]
  },
  {
   "cell_type": "code",
   "execution_count": null,
   "id": "71e773c7-2d15-4c27-85b7-955bcdee8f07",
   "metadata": {},
   "outputs": [],
   "source": []
  }
 ],
 "metadata": {
  "kernelspec": {
   "display_name": "Python 3 (ipykernel)",
   "language": "python",
   "name": "python3"
  },
  "language_info": {
   "codemirror_mode": {
    "name": "ipython",
    "version": 3
   },
   "file_extension": ".py",
   "mimetype": "text/x-python",
   "name": "python",
   "nbconvert_exporter": "python",
   "pygments_lexer": "ipython3",
   "version": "3.11.4"
  }
 },
 "nbformat": 4,
 "nbformat_minor": 5
}
