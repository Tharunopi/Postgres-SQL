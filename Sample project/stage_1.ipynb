{
 "cells": [
  {
   "cell_type": "code",
   "execution_count": 1,
   "id": "50c78635-7538-4df0-abf7-2f8bc60ca46d",
   "metadata": {},
   "outputs": [],
   "source": [
    "import streamlit as st\n",
    "import psycopg2"
   ]
  },
  {
   "cell_type": "code",
   "execution_count": 7,
   "id": "a349bf36-b867-477a-805c-7747be52f339",
   "metadata": {},
   "outputs": [],
   "source": [
    "db_params = {\n",
    "    \"host\": \"localhost\",\n",
    "    \"database\": \"svt_base\",\n",
    "    \"user\": \"postgres\",\n",
    "    \"password\": \"admin123\",\n",
    "    \"port\": \"5433\"\n",
    "}\n",
    "\n",
    "def connect_to_db():\n",
    "    return psycopg2.connect(**db_params)\n",
    "\n",
    "def exe_query(conn, query):\n",
    "    cursor = conn.cursor()\n",
    "\n",
    "    cursor.execute(query)\n",
    "\n",
    "    result = cursor.fetchall()\n",
    "\n",
    "    conn.commit()\n",
    "    cursor.close()\n",
    "    \n",
    "    return result \n",
    "\n",
    "conn = connect_to_db()"
   ]
  },
  {
   "cell_type": "code",
   "execution_count": 34,
   "id": "ece1adf6-1c0e-4068-835d-18ed96000d7b",
   "metadata": {},
   "outputs": [],
   "source": [
    "product = exe_query(conn, \"SELECT * FROM products\")\n",
    "\n",
    "store = exe_query(conn, \"SELECT * FROM stores\")\n",
    "\n",
    "kadai = {i[0]-1:i[1] for i in store}\n",
    "porul = {i[0]-1:[i[1],i[2]] for i in product}\n",
    "\n",
    "store_list = [i[1] for i in store]\n",
    "product_list = [i[1] for i in product]"
   ]
  },
  {
   "cell_type": "code",
   "execution_count": 31,
   "id": "45e6fcaa-bc4a-41e3-a7ca-20395400ecde",
   "metadata": {},
   "outputs": [
    {
     "data": {
      "text/plain": [
       "[(1, 'store-1', 'loc-1'),\n",
       " (2, 'store-2', 'loc-2'),\n",
       " (3, 'store-3', 'loc-3'),\n",
       " (4, 'store-4', 'loc-4'),\n",
       " (5, 'store-5', 'loc-5')]"
      ]
     },
     "execution_count": 31,
     "metadata": {},
     "output_type": "execute_result"
    }
   ],
   "source": [
    "store"
   ]
  },
  {
   "cell_type": "code",
   "execution_count": 32,
   "id": "178bce4d-4be9-4cd1-a47e-fa5a8401cae0",
   "metadata": {},
   "outputs": [
    {
     "data": {
      "text/plain": [
       "[(1, 'product-1', 10),\n",
       " (2, 'product-2', 20),\n",
       " (3, 'product-3', 30),\n",
       " (4, 'product-4', 40),\n",
       " (5, 'product-5', 50)]"
      ]
     },
     "execution_count": 32,
     "metadata": {},
     "output_type": "execute_result"
    }
   ],
   "source": [
    "product"
   ]
  },
  {
   "cell_type": "code",
   "execution_count": 29,
   "id": "3fb8d265-2b87-454a-928b-8cfb6e11c9c2",
   "metadata": {},
   "outputs": [
    {
     "data": {
      "text/plain": [
       "{0: 'store-1', 1: 'store-2', 2: 'store-3', 3: 'store-4', 4: 'store-5'}"
      ]
     },
     "execution_count": 29,
     "metadata": {},
     "output_type": "execute_result"
    }
   ],
   "source": [
    "kadai"
   ]
  },
  {
   "cell_type": "code",
   "execution_count": 30,
   "id": "97c3ccef-c519-48d5-b62f-a67f25a3a54d",
   "metadata": {},
   "outputs": [
    {
     "data": {
      "text/plain": [
       "{0: ['product-1', 10],\n",
       " 1: ['product-2', 20],\n",
       " 2: ['product-3', 30],\n",
       " 3: ['product-4', 40],\n",
       " 4: ['product-5', 50]}"
      ]
     },
     "execution_count": 30,
     "metadata": {},
     "output_type": "execute_result"
    }
   ],
   "source": [
    "porul"
   ]
  },
  {
   "cell_type": "code",
   "execution_count": 37,
   "id": "b901fe5a-a4d6-4509-8c17-7571da469a8f",
   "metadata": {},
   "outputs": [],
   "source": [
    "# order_id     store_id      product_id      quantiy       total\n",
    "\n",
    "#select store \n",
    "\n",
    "store_r = \"store-5\"\n",
    "product_r = \"product-1\"\n",
    "\n",
    "index_s = store_list.index(store_r)\n",
    "product_s = product_list.index(product_r)\n",
    "\n",
    "quantity = 34\n",
    "\n",
    "unit_price = product[product_s][2]\n",
    "\n",
    "total = quantity * unit_price"
   ]
  },
  {
   "cell_type": "code",
   "execution_count": 40,
   "id": "dc7f6378-2903-43f9-a42b-f62a30fe77d5",
   "metadata": {},
   "outputs": [
    {
     "ename": "InFailedSqlTransaction",
     "evalue": "current transaction is aborted, commands ignored until end of transaction block\n",
     "output_type": "error",
     "traceback": [
      "\u001b[1;31m---------------------------------------------------------------------------\u001b[0m",
      "\u001b[1;31mInFailedSqlTransaction\u001b[0m                    Traceback (most recent call last)",
      "Cell \u001b[1;32mIn[40], line 1\u001b[0m\n\u001b[1;32m----> 1\u001b[0m \u001b[43mexe_query\u001b[49m\u001b[43m(\u001b[49m\u001b[43mconn\u001b[49m\u001b[43m,\u001b[49m\u001b[43m \u001b[49m\u001b[38;5;124;43mf\u001b[39;49m\u001b[38;5;124;43m\"\u001b[39;49m\u001b[38;5;124;43mINSERT INTO orders(store_id, product_id, quantity, total_inr) VALUES (\u001b[39;49m\u001b[38;5;132;43;01m{\u001b[39;49;00m\u001b[43mindex_s\u001b[49m\u001b[38;5;132;43;01m}\u001b[39;49;00m\u001b[38;5;124;43m, \u001b[39;49m\u001b[38;5;132;43;01m{\u001b[39;49;00m\u001b[43mproduct_s\u001b[49m\u001b[38;5;132;43;01m}\u001b[39;49;00m\u001b[38;5;124;43m, \u001b[39;49m\u001b[38;5;132;43;01m{\u001b[39;49;00m\u001b[43mquantity\u001b[49m\u001b[38;5;132;43;01m}\u001b[39;49;00m\u001b[38;5;124;43m, \u001b[39;49m\u001b[38;5;132;43;01m{\u001b[39;49;00m\u001b[43mtotal\u001b[49m\u001b[38;5;132;43;01m}\u001b[39;49;00m\u001b[38;5;124;43m)\u001b[39;49m\u001b[38;5;124;43m\"\u001b[39;49m\u001b[43m)\u001b[49m\n",
      "Cell \u001b[1;32mIn[7], line 15\u001b[0m, in \u001b[0;36mexe_query\u001b[1;34m(conn, query)\u001b[0m\n\u001b[0;32m     12\u001b[0m \u001b[38;5;28;01mdef\u001b[39;00m \u001b[38;5;21mexe_query\u001b[39m(conn, query):\n\u001b[0;32m     13\u001b[0m     cursor \u001b[38;5;241m=\u001b[39m conn\u001b[38;5;241m.\u001b[39mcursor()\n\u001b[1;32m---> 15\u001b[0m     \u001b[43mcursor\u001b[49m\u001b[38;5;241;43m.\u001b[39;49m\u001b[43mexecute\u001b[49m\u001b[43m(\u001b[49m\u001b[43mquery\u001b[49m\u001b[43m)\u001b[49m\n\u001b[0;32m     17\u001b[0m     result \u001b[38;5;241m=\u001b[39m cursor\u001b[38;5;241m.\u001b[39mfetchall()\n\u001b[0;32m     19\u001b[0m     conn\u001b[38;5;241m.\u001b[39mcommit()\n",
      "\u001b[1;31mInFailedSqlTransaction\u001b[0m: current transaction is aborted, commands ignored until end of transaction block\n"
     ]
    }
   ],
   "source": [
    "exe_query(conn, )"
   ]
  },
  {
   "cell_type": "code",
   "execution_count": 44,
   "id": "16c51f50-9522-42c4-b98c-b873a3e4c51b",
   "metadata": {},
   "outputs": [
    {
     "ename": "InFailedSqlTransaction",
     "evalue": "current transaction is aborted, commands ignored until end of transaction block\n",
     "output_type": "error",
     "traceback": [
      "\u001b[1;31m---------------------------------------------------------------------------\u001b[0m",
      "\u001b[1;31mInFailedSqlTransaction\u001b[0m                    Traceback (most recent call last)",
      "Cell \u001b[1;32mIn[44], line 14\u001b[0m\n\u001b[0;32m     11\u001b[0m     conn\u001b[38;5;241m.\u001b[39mcommit()\n\u001b[0;32m     12\u001b[0m     cursor\u001b[38;5;241m.\u001b[39mclose()\n\u001b[1;32m---> 14\u001b[0m \u001b[43mexe\u001b[49m\u001b[43m(\u001b[49m\u001b[43m)\u001b[49m\n",
      "Cell \u001b[1;32mIn[44], line 9\u001b[0m, in \u001b[0;36mexe\u001b[1;34m()\u001b[0m\n\u001b[0;32m      2\u001b[0m cursor \u001b[38;5;241m=\u001b[39m conn\u001b[38;5;241m.\u001b[39mcursor()\n\u001b[0;32m      4\u001b[0m queryd \u001b[38;5;241m=\u001b[39m \u001b[38;5;124m\"\"\"\u001b[39m\n\u001b[0;32m      5\u001b[0m \u001b[38;5;124mINSERT INTO orders(store_id, product_id, quantity, total_inr)\u001b[39m\n\u001b[0;32m      6\u001b[0m \u001b[38;5;124mVALUES \u001b[39m\n\u001b[0;32m      7\u001b[0m \u001b[38;5;124m    (\u001b[39m\u001b[38;5;132;01m%s\u001b[39;00m\u001b[38;5;124m, \u001b[39m\u001b[38;5;132;01m%s\u001b[39;00m\u001b[38;5;124m, \u001b[39m\u001b[38;5;132;01m%s\u001b[39;00m\u001b[38;5;124m, \u001b[39m\u001b[38;5;132;01m%s\u001b[39;00m\u001b[38;5;124m)\u001b[39m\n\u001b[0;32m      8\u001b[0m \u001b[38;5;124m\u001b[39m\u001b[38;5;124m\"\"\"\u001b[39m\n\u001b[1;32m----> 9\u001b[0m \u001b[43mcursor\u001b[49m\u001b[38;5;241;43m.\u001b[39;49m\u001b[43mexecute\u001b[49m\u001b[43m(\u001b[49m\u001b[43mquery\u001b[49m\u001b[43m,\u001b[49m\u001b[43m \u001b[49m\u001b[43m(\u001b[49m\u001b[43mindex_s\u001b[49m\u001b[43m,\u001b[49m\u001b[43m \u001b[49m\u001b[43mproduct_s\u001b[49m\u001b[43m,\u001b[49m\u001b[43m \u001b[49m\u001b[43mquantity\u001b[49m\u001b[43m,\u001b[49m\u001b[43m \u001b[49m\u001b[43mtotal\u001b[49m\u001b[43m)\u001b[49m\u001b[43m)\u001b[49m\n\u001b[0;32m     11\u001b[0m conn\u001b[38;5;241m.\u001b[39mcommit()\n\u001b[0;32m     12\u001b[0m cursor\u001b[38;5;241m.\u001b[39mclose()\n",
      "\u001b[1;31mInFailedSqlTransaction\u001b[0m: current transaction is aborted, commands ignored until end of transaction block\n"
     ]
    }
   ],
   "source": [
    "def exe():\n",
    "    cursor = conn.cursor()\n",
    "\n",
    "    queryd = \"\"\"\n",
    "    INSERT INTO orders(store_id, product_id, quantity, total_inr)\n",
    "    VALUES \n",
    "        (%s, %s, %s, %s)\n",
    "    \"\"\"\n",
    "    cursor.execute(query, (index_s, product_s, quantity, total))\n",
    "\n",
    "    conn.commit()\n",
    "    cursor.close()\n",
    "\n",
    "exe()"
   ]
  },
  {
   "cell_type": "code",
   "execution_count": null,
   "id": "71e773c7-2d15-4c27-85b7-955bcdee8f07",
   "metadata": {},
   "outputs": [],
   "source": []
  }
 ],
 "metadata": {
  "kernelspec": {
   "display_name": "Python 3 (ipykernel)",
   "language": "python",
   "name": "python3"
  },
  "language_info": {
   "codemirror_mode": {
    "name": "ipython",
    "version": 3
   },
   "file_extension": ".py",
   "mimetype": "text/x-python",
   "name": "python",
   "nbconvert_exporter": "python",
   "pygments_lexer": "ipython3",
   "version": "3.11.4"
  }
 },
 "nbformat": 4,
 "nbformat_minor": 5
}
