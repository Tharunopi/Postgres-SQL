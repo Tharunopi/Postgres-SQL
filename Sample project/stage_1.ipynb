{
 "cells": [
  {
   "cell_type": "code",
   "execution_count": 2,
   "id": "50c78635-7538-4df0-abf7-2f8bc60ca46d",
   "metadata": {},
   "outputs": [],
   "source": [
    "import streamlit as st\n",
    "import psycopg2"
   ]
  },
  {
   "cell_type": "code",
   "execution_count": 2,
   "id": "a349bf36-b867-477a-805c-7747be52f339",
   "metadata": {},
   "outputs": [],
   "source": [
    "db_params = {\n",
    "    \"host\": \"localhost\",\n",
    "    \"database\": \"svt_base\",\n",
    "    \"user\": \"postgres\",\n",
    "    \"password\": \"admin123\",\n",
    "    \"port\": \"5433\"\n",
    "}\n",
    "\n",
    "def connect_to_db():\n",
    "    return psycopg2.connect(**db_params)\n",
    "\n",
    "def exe_query(conn, query):\n",
    "    cursor = conn.cursor()\n",
    "\n",
    "    cursor.execute(query)\n",
    "\n",
    "    result = cursor.fetchall()\n",
    "\n",
    "    conn.commit()\n",
    "    cursor.close()\n",
    "    \n",
    "    return result \n",
    "\n",
    "conn = connect_to_db()"
   ]
  },
  {
   "cell_type": "code",
   "execution_count": 16,
   "id": "71e773c7-2d15-4c27-85b7-955bcdee8f07",
   "metadata": {},
   "outputs": [],
   "source": [
    "products = exe_query(conn, \"SELECT * FROM products\")\n",
    "product_list = [i[1] for i in products]\n",
    "product_id = [i[0] for i in products]"
   ]
  },
  {
   "cell_type": "code",
   "execution_count": 15,
   "id": "1cb88524-a271-4ee0-8a83-b94bad06c544",
   "metadata": {},
   "outputs": [
    {
     "data": {
      "text/plain": [
       "[(1, 'product-1', 10),\n",
       " (2, 'product-2', 20),\n",
       " (3, 'product-3', 30),\n",
       " (4, 'product-4', 40),\n",
       " (5, 'product-5', 50),\n",
       " (7, 'country chicken', 156),\n",
       " (8, 'country chicken_2', 458),\n",
       " (9, 'quail ', 250)]"
      ]
     },
     "execution_count": 15,
     "metadata": {},
     "output_type": "execute_result"
    }
   ],
   "source": [
    "products"
   ]
  },
  {
   "cell_type": "code",
   "execution_count": 12,
   "id": "2db56af0-bcf1-4418-b146-8476cd199274",
   "metadata": {},
   "outputs": [
    {
     "data": {
      "text/plain": [
       "['product-1',\n",
       " 'product-2',\n",
       " 'product-3',\n",
       " 'product-4',\n",
       " 'product-5',\n",
       " 'country chicken',\n",
       " 'country chicken_2',\n",
       " 'quail ']"
      ]
     },
     "execution_count": 12,
     "metadata": {},
     "output_type": "execute_result"
    }
   ],
   "source": [
    "product_list"
   ]
  },
  {
   "cell_type": "code",
   "execution_count": 17,
   "id": "f690e1a0-6174-457e-9651-76cf9cd0bef1",
   "metadata": {},
   "outputs": [
    {
     "data": {
      "text/plain": [
       "[1, 2, 3, 4, 5, 7, 8, 9]"
      ]
     },
     "execution_count": 17,
     "metadata": {},
     "output_type": "execute_result"
    }
   ],
   "source": [
    "product_id"
   ]
  },
  {
   "cell_type": "code",
   "execution_count": null,
   "id": "0dbb05e6-4428-4948-92ee-3ecf0340cda2",
   "metadata": {},
   "outputs": [],
   "source": []
  }
 ],
 "metadata": {
  "kernelspec": {
   "display_name": "Python 3 (ipykernel)",
   "language": "python",
   "name": "python3"
  },
  "language_info": {
   "codemirror_mode": {
    "name": "ipython",
    "version": 3
   },
   "file_extension": ".py",
   "mimetype": "text/x-python",
   "name": "python",
   "nbconvert_exporter": "python",
   "pygments_lexer": "ipython3",
   "version": "3.11.4"
  }
 },
 "nbformat": 4,
 "nbformat_minor": 5
}
